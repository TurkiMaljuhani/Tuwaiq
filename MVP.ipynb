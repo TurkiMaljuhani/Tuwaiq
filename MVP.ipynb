{
 "cells": [
  {
   "cell_type": "markdown",
   "id": "929191e9",
   "metadata": {},
   "source": [
    "# How To Predicting Used Car Prices?\n",
    "Determining whether the listed price of a used car is a challenging task, for many factors that drive a used vehicle’s price on the market. The focus of this project is developing machine learning models that can accurately predict the price of a used car based on its features"
   ]
  },
  {
   "cell_type": "markdown",
   "id": "be5af22a",
   "metadata": {},
   "source": [
    "# Tools\n",
    "There are tools that will be used to achieve the goal of this study, such as: ``` matplotlib, pandas, ``` for discovering the data and train a model. The work will be done through Jupyter notebook."
   ]
  },
  {
   "cell_type": "markdown",
   "id": "ff4b47dd",
   "metadata": {},
   "source": [
    "# Import library"
   ]
  },
  {
   "cell_type": "code",
   "execution_count": 22,
   "id": "4c371613",
   "metadata": {},
   "outputs": [],
   "source": [
    "import numpy as np  # linear algebra\n",
    "import pandas as pd # data processing, CSV file I/O (e.g. pd.read_csv)\n",
    "from sklearn.preprocessing import StandardScaler\n",
    "from sklearn.model_selection import train_test_split\n",
    "from sklearn.linear_model import LinearRegression\n",
    "from sklearn.linear_model import Lasso\n",
    "from sklearn.metrics import mean_squared_error\n",
    "import matplotlib.pyplot as plt\n",
    "import seaborn as sns\n",
    "from sklearn import metrics\n",
    "from sklearn.metrics import r2_score\n",
    "%matplotlib inline\n",
    "from sklearn.model_selection import train_test_split,cross_val_score, cross_val_predict\n",
    "from sklearn.ensemble import RandomForestRegressor\n",
    "plt.style.use('ggplot')"
   ]
  },
  {
   "cell_type": "code",
   "execution_count": 2,
   "id": "5a2eb9d0",
   "metadata": {},
   "outputs": [],
   "source": [
    "## Uploade the Dateset From local (UsedCarsSA_UNClean_EN) The Data set is \n",
    "## Downloaded From (https://www.kaggle.com/turkibintalib/saudi-arabia-used-cars-dataset)\n",
    "\n",
    "df = pd.read_csv(\"UsedCarsSA_UNClean_EN.csv\")"
   ]
  },
  {
   "cell_type": "markdown",
   "id": "39d02a9d",
   "metadata": {},
   "source": [
    "# Data cleaning"
   ]
  },
  {
   "cell_type": "code",
   "execution_count": 3,
   "id": "06904738",
   "metadata": {},
   "outputs": [
    {
     "name": "stdout",
     "output_type": "stream",
     "text": [
      "<class 'pandas.core.frame.DataFrame'>\n",
      "RangeIndex: 8248 entries, 0 to 8247\n",
      "Data columns (total 15 columns):\n",
      " #   Column       Non-Null Count  Dtype  \n",
      "---  ------       --------------  -----  \n",
      " 0   Link         8248 non-null   object \n",
      " 1   Make         8248 non-null   object \n",
      " 2   Type         8248 non-null   object \n",
      " 3   Year         8248 non-null   int64  \n",
      " 4   Origin       8153 non-null   object \n",
      " 5   Color        8248 non-null   object \n",
      " 6   Options      8139 non-null   object \n",
      " 7   Engine_Size  5982 non-null   float64\n",
      " 8   Fuel_Type    8248 non-null   object \n",
      " 9   Gear_Type    8174 non-null   object \n",
      " 10  Condition    8248 non-null   object \n",
      " 11  Mileage      8248 non-null   int64  \n",
      " 12  Region       8248 non-null   object \n",
      " 13  Price        8248 non-null   object \n",
      " 14  Negotiable   8248 non-null   bool   \n",
      "dtypes: bool(1), float64(1), int64(2), object(11)\n",
      "memory usage: 910.3+ KB\n"
     ]
    }
   ],
   "source": [
    "df.info()"
   ]
  },
  {
   "cell_type": "code",
   "execution_count": 5,
   "id": "b7ff0726",
   "metadata": {},
   "outputs": [],
   "source": [
    "data_Clean = df.drop('Link', axis=1)"
   ]
  },
  {
   "cell_type": "code",
   "execution_count": 6,
   "id": "084596c4",
   "metadata": {},
   "outputs": [
    {
     "data": {
      "text/html": [
       "<div>\n",
       "<style scoped>\n",
       "    .dataframe tbody tr th:only-of-type {\n",
       "        vertical-align: middle;\n",
       "    }\n",
       "\n",
       "    .dataframe tbody tr th {\n",
       "        vertical-align: top;\n",
       "    }\n",
       "\n",
       "    .dataframe thead th {\n",
       "        text-align: right;\n",
       "    }\n",
       "</style>\n",
       "<table border=\"1\" class=\"dataframe\">\n",
       "  <thead>\n",
       "    <tr style=\"text-align: right;\">\n",
       "      <th></th>\n",
       "      <th>Make</th>\n",
       "      <th>Type</th>\n",
       "      <th>Year</th>\n",
       "      <th>Origin</th>\n",
       "      <th>Color</th>\n",
       "      <th>Options</th>\n",
       "      <th>Engine_Size</th>\n",
       "      <th>Fuel_Type</th>\n",
       "      <th>Gear_Type</th>\n",
       "      <th>Condition</th>\n",
       "      <th>Mileage</th>\n",
       "      <th>Region</th>\n",
       "      <th>Price</th>\n",
       "      <th>Negotiable</th>\n",
       "    </tr>\n",
       "  </thead>\n",
       "  <tbody>\n",
       "    <tr>\n",
       "      <th>0</th>\n",
       "      <td>Chrysler</td>\n",
       "      <td>C300</td>\n",
       "      <td>2018</td>\n",
       "      <td>Saudi</td>\n",
       "      <td>Black</td>\n",
       "      <td>Full</td>\n",
       "      <td>5.7</td>\n",
       "      <td>Gas</td>\n",
       "      <td>Automatic</td>\n",
       "      <td>Used</td>\n",
       "      <td>103000</td>\n",
       "      <td>Riyadh</td>\n",
       "      <td>114000</td>\n",
       "      <td>False</td>\n",
       "    </tr>\n",
       "    <tr>\n",
       "      <th>1</th>\n",
       "      <td>Nissan</td>\n",
       "      <td>Patrol</td>\n",
       "      <td>2016</td>\n",
       "      <td>Saudi</td>\n",
       "      <td>White</td>\n",
       "      <td>Full</td>\n",
       "      <td>4.8</td>\n",
       "      <td>Gas</td>\n",
       "      <td>Automatic</td>\n",
       "      <td>Used</td>\n",
       "      <td>5448</td>\n",
       "      <td>Riyadh</td>\n",
       "      <td>Negotiable</td>\n",
       "      <td>True</td>\n",
       "    </tr>\n",
       "    <tr>\n",
       "      <th>2</th>\n",
       "      <td>Nissan</td>\n",
       "      <td>Sunny</td>\n",
       "      <td>2019</td>\n",
       "      <td>Saudi</td>\n",
       "      <td>Silver</td>\n",
       "      <td>Standard</td>\n",
       "      <td>1.5</td>\n",
       "      <td>Gas</td>\n",
       "      <td>Automatic</td>\n",
       "      <td>Used</td>\n",
       "      <td>72418</td>\n",
       "      <td>Riyadh</td>\n",
       "      <td>27500</td>\n",
       "      <td>False</td>\n",
       "    </tr>\n",
       "    <tr>\n",
       "      <th>3</th>\n",
       "      <td>Hyundai</td>\n",
       "      <td>Elantra</td>\n",
       "      <td>2019</td>\n",
       "      <td>Saudi</td>\n",
       "      <td>Grey</td>\n",
       "      <td>Standard</td>\n",
       "      <td>1.6</td>\n",
       "      <td>Gas</td>\n",
       "      <td>Automatic</td>\n",
       "      <td>Used</td>\n",
       "      <td>114154</td>\n",
       "      <td>Riyadh</td>\n",
       "      <td>43000</td>\n",
       "      <td>False</td>\n",
       "    </tr>\n",
       "    <tr>\n",
       "      <th>4</th>\n",
       "      <td>Hyundai</td>\n",
       "      <td>Elantra</td>\n",
       "      <td>2019</td>\n",
       "      <td>Saudi</td>\n",
       "      <td>Silver</td>\n",
       "      <td>Semi Full</td>\n",
       "      <td>2.0</td>\n",
       "      <td>Gas</td>\n",
       "      <td>Automatic</td>\n",
       "      <td>Used</td>\n",
       "      <td>41912</td>\n",
       "      <td>Riyadh</td>\n",
       "      <td>59500</td>\n",
       "      <td>False</td>\n",
       "    </tr>\n",
       "    <tr>\n",
       "      <th>...</th>\n",
       "      <td>...</td>\n",
       "      <td>...</td>\n",
       "      <td>...</td>\n",
       "      <td>...</td>\n",
       "      <td>...</td>\n",
       "      <td>...</td>\n",
       "      <td>...</td>\n",
       "      <td>...</td>\n",
       "      <td>...</td>\n",
       "      <td>...</td>\n",
       "      <td>...</td>\n",
       "      <td>...</td>\n",
       "      <td>...</td>\n",
       "      <td>...</td>\n",
       "    </tr>\n",
       "    <tr>\n",
       "      <th>8243</th>\n",
       "      <td>Audi</td>\n",
       "      <td>A6</td>\n",
       "      <td>2015</td>\n",
       "      <td>Saudi</td>\n",
       "      <td>Silver</td>\n",
       "      <td>Full</td>\n",
       "      <td>NaN</td>\n",
       "      <td>Gas</td>\n",
       "      <td>Automatic</td>\n",
       "      <td>Used</td>\n",
       "      <td>77000</td>\n",
       "      <td>Riyadh</td>\n",
       "      <td>75000</td>\n",
       "      <td>False</td>\n",
       "    </tr>\n",
       "    <tr>\n",
       "      <th>8244</th>\n",
       "      <td>Chevrolet</td>\n",
       "      <td>Camaro</td>\n",
       "      <td>2010</td>\n",
       "      <td>Saudi</td>\n",
       "      <td>Silver</td>\n",
       "      <td>Full</td>\n",
       "      <td>NaN</td>\n",
       "      <td>Gas</td>\n",
       "      <td>Automatic</td>\n",
       "      <td>Used</td>\n",
       "      <td>150000</td>\n",
       "      <td>Riyadh</td>\n",
       "      <td>53000</td>\n",
       "      <td>False</td>\n",
       "    </tr>\n",
       "    <tr>\n",
       "      <th>8245</th>\n",
       "      <td>Toyota</td>\n",
       "      <td>Land Cruiser</td>\n",
       "      <td>2013</td>\n",
       "      <td>Gulf Arabic</td>\n",
       "      <td>White</td>\n",
       "      <td>Full</td>\n",
       "      <td>NaN</td>\n",
       "      <td>Gas</td>\n",
       "      <td>Automatic</td>\n",
       "      <td>Used</td>\n",
       "      <td>260</td>\n",
       "      <td>Najran</td>\n",
       "      <td>Negotiable</td>\n",
       "      <td>True</td>\n",
       "    </tr>\n",
       "    <tr>\n",
       "      <th>8246</th>\n",
       "      <td>Nissan</td>\n",
       "      <td>Altima</td>\n",
       "      <td>2011</td>\n",
       "      <td>Saudi</td>\n",
       "      <td>Silver</td>\n",
       "      <td>Full</td>\n",
       "      <td>2.5</td>\n",
       "      <td>Gas</td>\n",
       "      <td>Automatic</td>\n",
       "      <td>Used</td>\n",
       "      <td>18500</td>\n",
       "      <td>Aseer</td>\n",
       "      <td>22000</td>\n",
       "      <td>False</td>\n",
       "    </tr>\n",
       "    <tr>\n",
       "      <th>8247</th>\n",
       "      <td>Cadillac</td>\n",
       "      <td>Other</td>\n",
       "      <td>2013</td>\n",
       "      <td>Saudi</td>\n",
       "      <td>White</td>\n",
       "      <td>Full</td>\n",
       "      <td>3.6</td>\n",
       "      <td>Gas</td>\n",
       "      <td>Automatic</td>\n",
       "      <td>Used</td>\n",
       "      <td>256000</td>\n",
       "      <td>Al-Medina</td>\n",
       "      <td>40000</td>\n",
       "      <td>False</td>\n",
       "    </tr>\n",
       "  </tbody>\n",
       "</table>\n",
       "<p>8248 rows × 14 columns</p>\n",
       "</div>"
      ],
      "text/plain": [
       "           Make          Type  Year       Origin   Color    Options  \\\n",
       "0      Chrysler          C300  2018        Saudi   Black       Full   \n",
       "1        Nissan        Patrol  2016        Saudi   White       Full   \n",
       "2        Nissan         Sunny  2019        Saudi  Silver   Standard   \n",
       "3       Hyundai       Elantra  2019        Saudi    Grey   Standard   \n",
       "4       Hyundai       Elantra  2019        Saudi  Silver  Semi Full   \n",
       "...         ...           ...   ...          ...     ...        ...   \n",
       "8243       Audi            A6  2015        Saudi  Silver       Full   \n",
       "8244  Chevrolet        Camaro  2010        Saudi  Silver       Full   \n",
       "8245     Toyota  Land Cruiser  2013  Gulf Arabic   White       Full   \n",
       "8246     Nissan        Altima  2011        Saudi  Silver       Full   \n",
       "8247   Cadillac         Other  2013        Saudi   White       Full   \n",
       "\n",
       "      Engine_Size Fuel_Type  Gear_Type Condition  Mileage     Region  \\\n",
       "0             5.7       Gas  Automatic      Used   103000     Riyadh   \n",
       "1             4.8       Gas  Automatic      Used     5448     Riyadh   \n",
       "2             1.5       Gas  Automatic      Used    72418     Riyadh   \n",
       "3             1.6       Gas  Automatic      Used   114154     Riyadh   \n",
       "4             2.0       Gas  Automatic      Used    41912     Riyadh   \n",
       "...           ...       ...        ...       ...      ...        ...   \n",
       "8243          NaN       Gas  Automatic      Used    77000     Riyadh   \n",
       "8244          NaN       Gas  Automatic      Used   150000     Riyadh   \n",
       "8245          NaN       Gas  Automatic      Used      260     Najran   \n",
       "8246          2.5       Gas  Automatic      Used    18500      Aseer   \n",
       "8247          3.6       Gas  Automatic      Used   256000  Al-Medina   \n",
       "\n",
       "           Price  Negotiable  \n",
       "0         114000       False  \n",
       "1     Negotiable        True  \n",
       "2          27500       False  \n",
       "3          43000       False  \n",
       "4          59500       False  \n",
       "...          ...         ...  \n",
       "8243       75000       False  \n",
       "8244       53000       False  \n",
       "8245  Negotiable        True  \n",
       "8246       22000       False  \n",
       "8247       40000       False  \n",
       "\n",
       "[8248 rows x 14 columns]"
      ]
     },
     "execution_count": 6,
     "metadata": {},
     "output_type": "execute_result"
    }
   ],
   "source": [
    "data_Clean "
   ]
  },
  {
   "cell_type": "code",
   "execution_count": 9,
   "id": "bd941e9f",
   "metadata": {},
   "outputs": [
    {
     "data": {
      "text/plain": [
       "Make              0\n",
       "Type              0\n",
       "Year              0\n",
       "Origin           95\n",
       "Color             0\n",
       "Options         109\n",
       "Engine_Size    2266\n",
       "Fuel_Type         0\n",
       "Gear_Type        74\n",
       "Condition         0\n",
       "Mileage           0\n",
       "Region            0\n",
       "Price             0\n",
       "Negotiable        0\n",
       "dtype: int64"
      ]
     },
     "execution_count": 9,
     "metadata": {},
     "output_type": "execute_result"
    }
   ],
   "source": [
    "data_Clean.isnull().sum()"
   ]
  },
  {
   "cell_type": "code",
   "execution_count": 12,
   "id": "5c549492",
   "metadata": {},
   "outputs": [
    {
     "data": {
      "text/plain": [
       "Make              0\n",
       "Type              0\n",
       "Year              0\n",
       "Origin            0\n",
       "Color             0\n",
       "Options           0\n",
       "Engine_Size    2266\n",
       "Fuel_Type         0\n",
       "Gear_Type         0\n",
       "Condition         0\n",
       "Mileage           0\n",
       "Region            0\n",
       "Price             0\n",
       "Negotiable        0\n",
       "dtype: int64"
      ]
     },
     "execution_count": 12,
     "metadata": {},
     "output_type": "execute_result"
    }
   ],
   "source": [
    "#Filling The missing Value in Origin and Options and Gear_Type  with the (method 'bfill')\n",
    "#Origin           95\n",
    "#Options         109\n",
    "#Gear_Type        74\n",
    "data_Clean['Origin'].fillna(method='bfill', inplace=True)\n",
    "data_Clean['Options'].fillna(method='bfill',inplace=True)\n",
    "data_Clean['Gear_Type'].fillna(method='bfill',inplace=True)\n",
    "## Show The NULL \n",
    "data_Clean.isnull().sum()"
   ]
  },
  {
   "cell_type": "code",
   "execution_count": 13,
   "id": "f1b9e269",
   "metadata": {},
   "outputs": [
    {
     "data": {
      "text/plain": [
       "Make           0\n",
       "Type           0\n",
       "Year           0\n",
       "Origin         0\n",
       "Color          0\n",
       "Options        0\n",
       "Engine_Size    0\n",
       "Fuel_Type      0\n",
       "Gear_Type      0\n",
       "Condition      0\n",
       "Mileage        0\n",
       "Region         0\n",
       "Price          0\n",
       "Negotiable     0\n",
       "dtype: int64"
      ]
     },
     "execution_count": 13,
     "metadata": {},
     "output_type": "execute_result"
    }
   ],
   "source": [
    "### Filling The missing Value in Engine_Size with the std() \n",
    "\n",
    "data_Clean.fillna(value=data_Clean['Engine_Size'].std(),inplace=True)\n",
    "data_Clean.isnull().sum()"
   ]
  },
  {
   "cell_type": "code",
   "execution_count": 14,
   "id": "f7f2d5b9",
   "metadata": {},
   "outputs": [],
   "source": [
    "##The price column contains some String values and we need to process them\n",
    "## and replace all the values that contain negotiable with the NAN\n",
    "data_Clean['Price'].replace('Negotiable', np.NaN ,inplace=True)"
   ]
  },
  {
   "cell_type": "code",
   "execution_count": 16,
   "id": "4f9e7a94",
   "metadata": {},
   "outputs": [
    {
     "data": {
      "text/plain": [
       "Make              0\n",
       "Type              0\n",
       "Year              0\n",
       "Origin            0\n",
       "Color             0\n",
       "Options           0\n",
       "Engine_Size       0\n",
       "Fuel_Type         0\n",
       "Gear_Type         0\n",
       "Condition         0\n",
       "Mileage           0\n",
       "Region            0\n",
       "Price          2596\n",
       "Negotiable        0\n",
       "dtype: int64"
      ]
     },
     "execution_count": 16,
     "metadata": {},
     "output_type": "execute_result"
    }
   ],
   "source": [
    "data_Clean.isnull().sum()"
   ]
  },
  {
   "cell_type": "code",
   "execution_count": 19,
   "id": "997980e7",
   "metadata": {},
   "outputs": [
    {
     "name": "stdout",
     "output_type": "stream",
     "text": [
      "<class 'pandas.core.frame.DataFrame'>\n",
      "Int64Index: 5652 entries, 0 to 8247\n",
      "Data columns (total 14 columns):\n",
      " #   Column       Non-Null Count  Dtype  \n",
      "---  ------       --------------  -----  \n",
      " 0   Make         5652 non-null   object \n",
      " 1   Type         5652 non-null   object \n",
      " 2   Year         5652 non-null   int64  \n",
      " 3   Origin       5652 non-null   object \n",
      " 4   Color        5652 non-null   object \n",
      " 5   Options      5652 non-null   object \n",
      " 6   Engine_Size  5652 non-null   float64\n",
      " 7   Fuel_Type    5652 non-null   object \n",
      " 8   Gear_Type    5652 non-null   object \n",
      " 9   Condition    5652 non-null   object \n",
      " 10  Mileage      5652 non-null   int64  \n",
      " 11  Region       5652 non-null   object \n",
      " 12  Price        5652 non-null   object \n",
      " 13  Negotiable   5652 non-null   bool   \n",
      "dtypes: bool(1), float64(1), int64(2), object(10)\n",
      "memory usage: 623.7+ KB\n"
     ]
    }
   ],
   "source": [
    "## Now we have NAN in 2596 rows, and because it is difficult to replace the average or mein or std in the price\n",
    "## because it well effect on the question, we delete all the rows that contain the values in the price column\n",
    "data_Clean.dropna(how='any',inplace=True)\n",
    "data_Clean.isnull().sum()\n",
    "data_Clean.info()"
   ]
  },
  {
   "cell_type": "code",
   "execution_count": 21,
   "id": "71bd88e4",
   "metadata": {},
   "outputs": [
    {
     "name": "stdout",
     "output_type": "stream",
     "text": [
      "<class 'pandas.core.frame.DataFrame'>\n",
      "Int64Index: 5652 entries, 0 to 8247\n",
      "Data columns (total 14 columns):\n",
      " #   Column       Non-Null Count  Dtype  \n",
      "---  ------       --------------  -----  \n",
      " 0   Make         5652 non-null   object \n",
      " 1   Type         5652 non-null   object \n",
      " 2   Year         5652 non-null   int64  \n",
      " 3   Origin       5652 non-null   object \n",
      " 4   Color        5652 non-null   object \n",
      " 5   Options      5652 non-null   object \n",
      " 6   Engine_Size  5652 non-null   float64\n",
      " 7   Fuel_Type    5652 non-null   object \n",
      " 8   Gear_Type    5652 non-null   object \n",
      " 9   Condition    5652 non-null   object \n",
      " 10  Mileage      5652 non-null   int64  \n",
      " 11  Region       5652 non-null   object \n",
      " 12  Price        5652 non-null   float64\n",
      " 13  Negotiable   5652 non-null   bool   \n",
      "dtypes: bool(1), float64(2), int64(2), object(9)\n",
      "memory usage: 623.7+ KB\n"
     ]
    }
   ],
   "source": [
    "## 12  Price        5652 non-null   object  her the price is (object) we need To Convert it to (float)\n",
    "data_Clean['Price'] = data_Clean['Price'].astype(float)\n",
    "data_Clean.info()"
   ]
  },
  {
   "cell_type": "markdown",
   "id": "b76d6e7e",
   "metadata": {},
   "source": [
    "# Visualization And Data Analysis\n",
    "..\n",
    "..\n",
    "..\n",
    "\n"
   ]
  },
  {
   "cell_type": "code",
   "execution_count": 27,
   "id": "66442734",
   "metadata": {},
   "outputs": [
    {
     "data": {
      "text/plain": [
       "<AxesSubplot:title={'center':'Fuel_Type Vs Price'}, xlabel='Fuel_Type', ylabel='Price'>"
      ]
     },
     "execution_count": 27,
     "metadata": {},
     "output_type": "execute_result"
    },
    {
     "data": {
      "image/png": "[encoded data removed]",
      "text/plain": [
       "<Figure size 432x288 with 1 Axes>"
      ]
     },
     "metadata": {},
     "output_type": "display_data"
    }
   ],
   "source": [
    "data_Clean['Fuel_Type'].value_counts()\n",
    "var = data_Clean.groupby('Fuel_Type').Price.sum()\n",
    "fig = plt.figure()\n",
    "ax1 = fig.add_subplot(1,1,1)\n",
    "ax1.set_xlabel('Fuel_Type')\n",
    "ax1.set_ylabel('Price')\n",
    "ax1.set_title(\"Fuel_Type Vs Price\")\n",
    "var.plot(kind='bar')"
   ]
  },
  {
   "cell_type": "code",
   "execution_count": 28,
   "id": "9f564e59",
   "metadata": {},
   "outputs": [
    {
     "data": {
      "text/plain": [
       "<AxesSubplot:title={'center':'Make Vs Price'}, xlabel='Make', ylabel='Increase In price'>"
      ]
     },
     "execution_count": 28,
     "metadata": {},
     "output_type": "execute_result"
    },
    {
     "data": {
      "image/png": "[encoded data removed]",
      "text/plain": [
       "<Figure size 432x288 with 1 Axes>"
      ]
     },
     "metadata": {},
     "output_type": "display_data"
    }
   ],
   "source": [
    "data_Clean['Make'].value_counts()\n",
    "var = data_Clean.groupby('Make').Price.sum()\n",
    "fig = plt.figure()\n",
    "ax1 = fig.add_subplot(1,1,1)\n",
    "ax1.set_xlabel('Make')\n",
    "ax1.set_ylabel('Increase In price')\n",
    "ax1.set_title(\"Make Vs Price\")\n",
    "var.plot(kind='bar')"
   ]
  },
  {
   "cell_type": "code",
   "execution_count": 29,
   "id": "2ed0809c",
   "metadata": {},
   "outputs": [
    {
     "data": {
      "text/plain": [
       "<AxesSubplot:title={'center':'Type Vs Price'}, xlabel='Type', ylabel='Increase In price'>"
      ]
     },
     "execution_count": 29,
     "metadata": {},
     "output_type": "execute_result"
    },
    {
     "data": {
      "image/png": "[encoded data removed]",
      "text/plain": [
       "<Figure size 432x288 with 1 Axes>"
      ]
     },
     "metadata": {},
     "output_type": "display_data"
    }
   ],
   "source": [
    "data_Clean['Type'].value_counts()\n",
    "var = data_Clean.groupby('Type').Price.sum() \n",
    "fig = plt.figure()\n",
    "ax1 = fig.add_subplot(1,1,1)\n",
    "ax1.set_xlabel('Type Of Car')\n",
    "ax1.set_ylabel('Increase In price')\n",
    "ax1.set_title(\"Type Vs Price\")\n",
    "var.plot(kind='line')"
   ]
  },
  {
   "cell_type": "code",
   "execution_count": 32,
   "id": "0689796f",
   "metadata": {},
   "outputs": [
    {
     "data": {
      "text/plain": [
       "<AxesSubplot:title={'center':'Mileage Vs Price'}, xlabel='Mileage', ylabel='Increase In price'>"
      ]
     },
     "execution_count": 32,
     "metadata": {},
     "output_type": "execute_result"
    },
    {
     "data": {
      "image/png": "[encoded data removed]",
      "text/plain": [
       "<Figure size 432x288 with 1 Axes>"
      ]
     },
     "metadata": {},
     "output_type": "display_data"
    }
   ],
   "source": [
    "data_Clean['Mileage'].value_counts()\n",
    "var = data_Clean.groupby('Mileage').Price.sum() \n",
    "fig = plt.figure()\n",
    "ax1 = fig.add_subplot(1,1,1)\n",
    "ax1.set_xlabel('Mileage Of Car')\n",
    "ax1.set_ylabel('Increase In price')\n",
    "ax1.set_title(\"Mileage Vs Price\")\n",
    "var.plot(kind='line')"
   ]
  },
  {
   "cell_type": "code",
   "execution_count": 31,
   "id": "9449e806",
   "metadata": {},
   "outputs": [
    {
     "data": {
      "text/plain": [
       "<AxesSubplot:title={'center':'Year Vs Price'}, xlabel='Year', ylabel='Increase In price'>"
      ]
     },
     "execution_count": 31,
     "metadata": {},
     "output_type": "execute_result"
    },
    {
     "data": {
      "image/png": "[encoded data removed]",
      "text/plain": [
       "<Figure size 432x288 with 1 Axes>"
      ]
     },
     "metadata": {},
     "output_type": "display_data"
    }
   ],
   "source": [
    "data_Clean['Year'].value_counts()\n",
    "var = data_Clean.groupby('Year').Price.sum() \n",
    "fig = plt.figure()\n",
    "ax1 = fig.add_subplot(1,1,1)\n",
    "ax1.set_xlabel('Year Of Car')\n",
    "ax1.set_ylabel('Increase In price')\n",
    "ax1.set_title(\"Year Vs Price\")\n",
    "var.plot(kind='line')"
   ]
  },
  {
   "cell_type": "code",
   "execution_count": 38,
   "id": "8db46b2c",
   "metadata": {},
   "outputs": [
    {
     "name": "stdout",
     "output_type": "stream",
     "text": [
      "<class 'pandas.core.frame.DataFrame'>\n",
      "Int64Index: 5652 entries, 0 to 8247\n",
      "Data columns (total 8 columns):\n",
      " #   Column       Non-Null Count  Dtype  \n",
      "---  ------       --------------  -----  \n",
      " 0   Type         5652 non-null   object \n",
      " 1   Year         5652 non-null   int64  \n",
      " 2   Options      5652 non-null   int64  \n",
      " 3   Engine_Size  5652 non-null   float64\n",
      " 4   Fuel_Type    5652 non-null   int64  \n",
      " 5   Gear_Type    5652 non-null   int64  \n",
      " 6   Mileage      5652 non-null   int64  \n",
      " 7   Price        5652 non-null   float64\n",
      "dtypes: float64(2), int64(5), object(1)\n",
      "memory usage: 397.4+ KB\n"
     ]
    }
   ],
   "source": [
    "# sign data_Clean To test_df\n",
    "test_df = data_Clean\n",
    "test_df.info()\n",
    "#encoding the categorical Data by 0 - 1  - 2 and Drop unnecessary columns\n",
    "# (Make','Origin','Color','Condition','Region','Negotiable','Car_Group)\n",
    "test_df.Options.unique()\n",
    "test_df.replace({'Options':{'Full':0,'Semi Full':1,'Standard':2}}, inplace=True)\n",
    "test_df.Fuel_Type.unique()\n",
    "test_df.replace({'Fuel_Type':{'Gas':0,'Diesel':2,'Hybrid':1}}, inplace=True)\n",
    "test_df.Gear_Type.unique()\n",
    "test_df.replace({'Gear_Type':{'Automatic':0,'Manual':1}}, inplace=True)\n",
    "test_df.drop(['Make','Origin','Color','Condition','Region','Negotiable'], axis = 1, inplace=True)"
   ]
  },
  {
   "cell_type": "code",
   "execution_count": null,
   "id": "26803067",
   "metadata": {},
   "outputs": [],
   "source": []
  },
  {
   "cell_type": "markdown",
   "id": "d9e23d05",
   "metadata": {},
   "source": []
  },
  {
   "cell_type": "code",
   "execution_count": null,
   "id": "088c751c",
   "metadata": {},
   "outputs": [],
   "source": []
  },
  {
   "cell_type": "code",
   "execution_count": null,
   "id": "d61d12e4",
   "metadata": {},
   "outputs": [],
   "source": []
  }
 ],
 "metadata": {
  "kernelspec": {
   "display_name": "Python 3",
   "language": "python",
   "name": "python3"
  },
  "language_info": {
   "codemirror_mode": {
    "name": "ipython",
    "version": 3
   },
   "file_extension": ".py",
   "mimetype": "text/x-python",
   "name": "python",
   "nbconvert_exporter": "python",
   "pygments_lexer": "ipython3",
   "version": "3.8.8"
  }
 },
 "nbformat": 4,
 "nbformat_minor": 5
}
