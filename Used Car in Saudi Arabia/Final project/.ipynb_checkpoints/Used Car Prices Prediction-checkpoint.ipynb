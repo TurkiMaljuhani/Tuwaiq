{
 "cells": [
  {
   "cell_type": "markdown",
   "id": "e0854008",
   "metadata": {},
   "source": [
    "#  Used Car Prices Prediction"
   ]
  },
  {
   "cell_type": "code",
   "execution_count": 2,
   "id": "9e2c033e",
   "metadata": {},
   "outputs": [],
   "source": [
    "#********************************************************** \n",
    "#************# Predicting Used Car Prices #****************\n",
    "#************#  Tuwaiq_Four_Week-master   #****************\n",
    "#********************************************************** "
   ]
  },
  {
   "cell_type": "markdown",
   "id": "43c389c8",
   "metadata": {},
   "source": [
    "# How To Predicting Used Car Prices?\n",
    "Determining whether the listed price of a used car is a challenging task, for many factors that drive a used vehicle’s price on the market. The focus of this project is developing machine learning models that can accurately predict the price of a used car based on its features"
   ]
  },
  {
   "cell_type": "markdown",
   "id": "5966f74a",
   "metadata": {},
   "source": [
    "# Tools\n",
    "There are tools that will be used to achieve the goal of this study, such as: ``` matplotlib, pandas, numpy , seaborn  ```\n",
    "for discovering the data and train a model. The work will be done through Jupyter notebook."
   ]
  },
  {
   "cell_type": "markdown",
   "id": "621d9e79",
   "metadata": {},
   "source": [
    "# Import library"
   ]
  },
  {
   "cell_type": "code",
   "execution_count": 4,
   "id": "171171f2",
   "metadata": {},
   "outputs": [],
   "source": [
    "#First Step Import the library \n",
    "\n",
    "import numpy as np  \n",
    "import pandas as pd \n",
    "from sklearn.preprocessing import StandardScaler\n",
    "from sklearn.model_selection import train_test_split\n",
    "from sklearn.linear_model import LinearRegression\n",
    "from sklearn.linear_model import Lasso\n",
    "from sklearn.metrics import mean_squared_error\n",
    "import matplotlib.pyplot as plt\n",
    "import seaborn as sns\n",
    "from sklearn import metrics\n",
    "from sklearn.metrics import r2_score\n",
    "%matplotlib inline\n",
    "from sklearn.model_selection import train_test_split,cross_val_score, cross_val_predict\n",
    "from sklearn.ensemble import RandomForestRegressor\n",
    "plt.style.use('ggplot')"
   ]
  },
  {
   "cell_type": "code",
   "execution_count": 5,
   "id": "a8ed9974",
   "metadata": {},
   "outputs": [],
   "source": [
    "## Uploade the Dateset From local (UsedCarsSA_UNClean_EN) The Data set is \n",
    "## Downloaded From (https://www.kaggle.com/turkibintalib/saudi-arabia-used-cars-dataset)\n",
    "\n",
    "df = pd.read_csv(\"UsedCarsSA_UNClean_EN.csv\")"
   ]
  },
  {
   "cell_type": "markdown",
   "id": "c36b750a",
   "metadata": {},
   "source": [
    "# Data cleaning\n",
    "Second Step Check Data And see the cloumns datetype and missing value \n",
    "\n"
   ]
  },
  {
   "cell_type": "code",
   "execution_count": 6,
   "id": "21df0f62",
   "metadata": {},
   "outputs": [
    {
     "name": "stdout",
     "output_type": "stream",
     "text": [
      "<class 'pandas.core.frame.DataFrame'>\n",
      "RangeIndex: 8248 entries, 0 to 8247\n",
      "Data columns (total 15 columns):\n",
      " #   Column       Non-Null Count  Dtype  \n",
      "---  ------       --------------  -----  \n",
      " 0   Link         8248 non-null   object \n",
      " 1   Make         8248 non-null   object \n",
      " 2   Type         8248 non-null   object \n",
      " 3   Year         8248 non-null   int64  \n",
      " 4   Origin       8153 non-null   object \n",
      " 5   Color        8248 non-null   object \n",
      " 6   Options      8139 non-null   object \n",
      " 7   Engine_Size  5982 non-null   float64\n",
      " 8   Fuel_Type    8248 non-null   object \n",
      " 9   Gear_Type    8174 non-null   object \n",
      " 10  Condition    8248 non-null   object \n",
      " 11  Mileage      8248 non-null   int64  \n",
      " 12  Region       8248 non-null   object \n",
      " 13  Price        8248 non-null   object \n",
      " 14  Negotiable   8248 non-null   bool   \n",
      "dtypes: bool(1), float64(1), int64(2), object(11)\n",
      "memory usage: 910.3+ KB\n"
     ]
    }
   ],
   "source": [
    "df.info()"
   ]
  },
  {
   "cell_type": "code",
   "execution_count": 7,
   "id": "e17026c2",
   "metadata": {},
   "outputs": [],
   "source": [
    "data_Clean = df.drop('Link', axis=1)"
   ]
  },
  {
   "cell_type": "code",
   "execution_count": 8,
   "id": "09c4aa1c",
   "metadata": {},
   "outputs": [
    {
     "data": {
      "text/html": [
       "<div>\n",
       "<style scoped>\n",
       "    .dataframe tbody tr th:only-of-type {\n",
       "        vertical-align: middle;\n",
       "    }\n",
       "\n",
       "    .dataframe tbody tr th {\n",
       "        vertical-align: top;\n",
       "    }\n",
       "\n",
       "    .dataframe thead th {\n",
       "        text-align: right;\n",
       "    }\n",
       "</style>\n",
       "<table border=\"1\" class=\"dataframe\">\n",
       "  <thead>\n",
       "    <tr style=\"text-align: right;\">\n",
       "      <th></th>\n",
       "      <th>Make</th>\n",
       "      <th>Type</th>\n",
       "      <th>Year</th>\n",
       "      <th>Origin</th>\n",
       "      <th>Color</th>\n",
       "      <th>Options</th>\n",
       "      <th>Engine_Size</th>\n",
       "      <th>Fuel_Type</th>\n",
       "      <th>Gear_Type</th>\n",
       "      <th>Condition</th>\n",
       "      <th>Mileage</th>\n",
       "      <th>Region</th>\n",
       "      <th>Price</th>\n",
       "      <th>Negotiable</th>\n",
       "    </tr>\n",
       "  </thead>\n",
       "  <tbody>\n",
       "    <tr>\n",
       "      <th>0</th>\n",
       "      <td>Chrysler</td>\n",
       "      <td>C300</td>\n",
       "      <td>2018</td>\n",
       "      <td>Saudi</td>\n",
       "      <td>Black</td>\n",
       "      <td>Full</td>\n",
       "      <td>5.7</td>\n",
       "      <td>Gas</td>\n",
       "      <td>Automatic</td>\n",
       "      <td>Used</td>\n",
       "      <td>103000</td>\n",
       "      <td>Riyadh</td>\n",
       "      <td>114000</td>\n",
       "      <td>False</td>\n",
       "    </tr>\n",
       "    <tr>\n",
       "      <th>1</th>\n",
       "      <td>Nissan</td>\n",
       "      <td>Patrol</td>\n",
       "      <td>2016</td>\n",
       "      <td>Saudi</td>\n",
       "      <td>White</td>\n",
       "      <td>Full</td>\n",
       "      <td>4.8</td>\n",
       "      <td>Gas</td>\n",
       "      <td>Automatic</td>\n",
       "      <td>Used</td>\n",
       "      <td>5448</td>\n",
       "      <td>Riyadh</td>\n",
       "      <td>Negotiable</td>\n",
       "      <td>True</td>\n",
       "    </tr>\n",
       "    <tr>\n",
       "      <th>2</th>\n",
       "      <td>Nissan</td>\n",
       "      <td>Sunny</td>\n",
       "      <td>2019</td>\n",
       "      <td>Saudi</td>\n",
       "      <td>Silver</td>\n",
       "      <td>Standard</td>\n",
       "      <td>1.5</td>\n",
       "      <td>Gas</td>\n",
       "      <td>Automatic</td>\n",
       "      <td>Used</td>\n",
       "      <td>72418</td>\n",
       "      <td>Riyadh</td>\n",
       "      <td>27500</td>\n",
       "      <td>False</td>\n",
       "    </tr>\n",
       "    <tr>\n",
       "      <th>3</th>\n",
       "      <td>Hyundai</td>\n",
       "      <td>Elantra</td>\n",
       "      <td>2019</td>\n",
       "      <td>Saudi</td>\n",
       "      <td>Grey</td>\n",
       "      <td>Standard</td>\n",
       "      <td>1.6</td>\n",
       "      <td>Gas</td>\n",
       "      <td>Automatic</td>\n",
       "      <td>Used</td>\n",
       "      <td>114154</td>\n",
       "      <td>Riyadh</td>\n",
       "      <td>43000</td>\n",
       "      <td>False</td>\n",
       "    </tr>\n",
       "    <tr>\n",
       "      <th>4</th>\n",
       "      <td>Hyundai</td>\n",
       "      <td>Elantra</td>\n",
       "      <td>2019</td>\n",
       "      <td>Saudi</td>\n",
       "      <td>Silver</td>\n",
       "      <td>Semi Full</td>\n",
       "      <td>2.0</td>\n",
       "      <td>Gas</td>\n",
       "      <td>Automatic</td>\n",
       "      <td>Used</td>\n",
       "      <td>41912</td>\n",
       "      <td>Riyadh</td>\n",
       "      <td>59500</td>\n",
       "      <td>False</td>\n",
       "    </tr>\n",
       "    <tr>\n",
       "      <th>...</th>\n",
       "      <td>...</td>\n",
       "      <td>...</td>\n",
       "      <td>...</td>\n",
       "      <td>...</td>\n",
       "      <td>...</td>\n",
       "      <td>...</td>\n",
       "      <td>...</td>\n",
       "      <td>...</td>\n",
       "      <td>...</td>\n",
       "      <td>...</td>\n",
       "      <td>...</td>\n",
       "      <td>...</td>\n",
       "      <td>...</td>\n",
       "      <td>...</td>\n",
       "    </tr>\n",
       "    <tr>\n",
       "      <th>8243</th>\n",
       "      <td>Audi</td>\n",
       "      <td>A6</td>\n",
       "      <td>2015</td>\n",
       "      <td>Saudi</td>\n",
       "      <td>Silver</td>\n",
       "      <td>Full</td>\n",
       "      <td>NaN</td>\n",
       "      <td>Gas</td>\n",
       "      <td>Automatic</td>\n",
       "      <td>Used</td>\n",
       "      <td>77000</td>\n",
       "      <td>Riyadh</td>\n",
       "      <td>75000</td>\n",
       "      <td>False</td>\n",
       "    </tr>\n",
       "    <tr>\n",
       "      <th>8244</th>\n",
       "      <td>Chevrolet</td>\n",
       "      <td>Camaro</td>\n",
       "      <td>2010</td>\n",
       "      <td>Saudi</td>\n",
       "      <td>Silver</td>\n",
       "      <td>Full</td>\n",
       "      <td>NaN</td>\n",
       "      <td>Gas</td>\n",
       "      <td>Automatic</td>\n",
       "      <td>Used</td>\n",
       "      <td>150000</td>\n",
       "      <td>Riyadh</td>\n",
       "      <td>53000</td>\n",
       "      <td>False</td>\n",
       "    </tr>\n",
       "    <tr>\n",
       "      <th>8245</th>\n",
       "      <td>Toyota</td>\n",
       "      <td>Land Cruiser</td>\n",
       "      <td>2013</td>\n",
       "      <td>Gulf Arabic</td>\n",
       "      <td>White</td>\n",
       "      <td>Full</td>\n",
       "      <td>NaN</td>\n",
       "      <td>Gas</td>\n",
       "      <td>Automatic</td>\n",
       "      <td>Used</td>\n",
       "      <td>260</td>\n",
       "      <td>Najran</td>\n",
       "      <td>Negotiable</td>\n",
       "      <td>True</td>\n",
       "    </tr>\n",
       "    <tr>\n",
       "      <th>8246</th>\n",
       "      <td>Nissan</td>\n",
       "      <td>Altima</td>\n",
       "      <td>2011</td>\n",
       "      <td>Saudi</td>\n",
       "      <td>Silver</td>\n",
       "      <td>Full</td>\n",
       "      <td>2.5</td>\n",
       "      <td>Gas</td>\n",
       "      <td>Automatic</td>\n",
       "      <td>Used</td>\n",
       "      <td>18500</td>\n",
       "      <td>Aseer</td>\n",
       "      <td>22000</td>\n",
       "      <td>False</td>\n",
       "    </tr>\n",
       "    <tr>\n",
       "      <th>8247</th>\n",
       "      <td>Cadillac</td>\n",
       "      <td>Other</td>\n",
       "      <td>2013</td>\n",
       "      <td>Saudi</td>\n",
       "      <td>White</td>\n",
       "      <td>Full</td>\n",
       "      <td>3.6</td>\n",
       "      <td>Gas</td>\n",
       "      <td>Automatic</td>\n",
       "      <td>Used</td>\n",
       "      <td>256000</td>\n",
       "      <td>Al-Medina</td>\n",
       "      <td>40000</td>\n",
       "      <td>False</td>\n",
       "    </tr>\n",
       "  </tbody>\n",
       "</table>\n",
       "<p>8248 rows × 14 columns</p>\n",
       "</div>"
      ],
      "text/plain": [
       "           Make          Type  Year       Origin   Color    Options  \\\n",
       "0      Chrysler          C300  2018        Saudi   Black       Full   \n",
       "1        Nissan        Patrol  2016        Saudi   White       Full   \n",
       "2        Nissan         Sunny  2019        Saudi  Silver   Standard   \n",
       "3       Hyundai       Elantra  2019        Saudi    Grey   Standard   \n",
       "4       Hyundai       Elantra  2019        Saudi  Silver  Semi Full   \n",
       "...         ...           ...   ...          ...     ...        ...   \n",
       "8243       Audi            A6  2015        Saudi  Silver       Full   \n",
       "8244  Chevrolet        Camaro  2010        Saudi  Silver       Full   \n",
       "8245     Toyota  Land Cruiser  2013  Gulf Arabic   White       Full   \n",
       "8246     Nissan        Altima  2011        Saudi  Silver       Full   \n",
       "8247   Cadillac         Other  2013        Saudi   White       Full   \n",
       "\n",
       "      Engine_Size Fuel_Type  Gear_Type Condition  Mileage     Region  \\\n",
       "0             5.7       Gas  Automatic      Used   103000     Riyadh   \n",
       "1             4.8       Gas  Automatic      Used     5448     Riyadh   \n",
       "2             1.5       Gas  Automatic      Used    72418     Riyadh   \n",
       "3             1.6       Gas  Automatic      Used   114154     Riyadh   \n",
       "4             2.0       Gas  Automatic      Used    41912     Riyadh   \n",
       "...           ...       ...        ...       ...      ...        ...   \n",
       "8243          NaN       Gas  Automatic      Used    77000     Riyadh   \n",
       "8244          NaN       Gas  Automatic      Used   150000     Riyadh   \n",
       "8245          NaN       Gas  Automatic      Used      260     Najran   \n",
       "8246          2.5       Gas  Automatic      Used    18500      Aseer   \n",
       "8247          3.6       Gas  Automatic      Used   256000  Al-Medina   \n",
       "\n",
       "           Price  Negotiable  \n",
       "0         114000       False  \n",
       "1     Negotiable        True  \n",
       "2          27500       False  \n",
       "3          43000       False  \n",
       "4          59500       False  \n",
       "...          ...         ...  \n",
       "8243       75000       False  \n",
       "8244       53000       False  \n",
       "8245  Negotiable        True  \n",
       "8246       22000       False  \n",
       "8247       40000       False  \n",
       "\n",
       "[8248 rows x 14 columns]"
      ]
     },
     "execution_count": 8,
     "metadata": {},
     "output_type": "execute_result"
    }
   ],
   "source": [
    "data_Clean "
   ]
  },
  {
   "cell_type": "code",
   "execution_count": 9,
   "id": "15693304",
   "metadata": {},
   "outputs": [
    {
     "data": {
      "text/plain": [
       "Make              0\n",
       "Type              0\n",
       "Year              0\n",
       "Origin           95\n",
       "Color             0\n",
       "Options         109\n",
       "Engine_Size    2266\n",
       "Fuel_Type         0\n",
       "Gear_Type        74\n",
       "Condition         0\n",
       "Mileage           0\n",
       "Region            0\n",
       "Price             0\n",
       "Negotiable        0\n",
       "dtype: int64"
      ]
     },
     "execution_count": 9,
     "metadata": {},
     "output_type": "execute_result"
    }
   ],
   "source": [
    "data_Clean.isnull().sum()"
   ]
  },
  {
   "cell_type": "code",
   "execution_count": 10,
   "id": "9cacbfe8",
   "metadata": {},
   "outputs": [
    {
     "data": {
      "text/plain": [
       "Make              0\n",
       "Type              0\n",
       "Year              0\n",
       "Origin            0\n",
       "Color             0\n",
       "Options           0\n",
       "Engine_Size    2266\n",
       "Fuel_Type         0\n",
       "Gear_Type         0\n",
       "Condition         0\n",
       "Mileage           0\n",
       "Region            0\n",
       "Price             0\n",
       "Negotiable        0\n",
       "dtype: int64"
      ]
     },
     "execution_count": 10,
     "metadata": {},
     "output_type": "execute_result"
    }
   ],
   "source": [
    "#Filling The missing Value in Origin and Options and Gear_Type  with the (method 'bfill')\n",
    "#Origin           95\n",
    "#Options         109\n",
    "#Gear_Type        74\n",
    "data_Clean['Origin'].fillna(method='bfill', inplace=True)\n",
    "data_Clean['Options'].fillna(method='bfill',inplace=True)\n",
    "data_Clean['Gear_Type'].fillna(method='bfill',inplace=True)\n",
    "## Show The NULL \n",
    "data_Clean.isnull().sum()"
   ]
  },
  {
   "cell_type": "code",
   "execution_count": 11,
   "id": "2983b4cd",
   "metadata": {},
   "outputs": [
    {
     "data": {
      "text/plain": [
       "Make           0\n",
       "Type           0\n",
       "Year           0\n",
       "Origin         0\n",
       "Color          0\n",
       "Options        0\n",
       "Engine_Size    0\n",
       "Fuel_Type      0\n",
       "Gear_Type      0\n",
       "Condition      0\n",
       "Mileage        0\n",
       "Region         0\n",
       "Price          0\n",
       "Negotiable     0\n",
       "dtype: int64"
      ]
     },
     "execution_count": 11,
     "metadata": {},
     "output_type": "execute_result"
    }
   ],
   "source": [
    "### Filling The missing Value in Engine_Size with the std() \n",
    "\n",
    "data_Clean.fillna(value=data_Clean['Engine_Size'].std(),inplace=True)\n",
    "data_Clean.isnull().sum()"
   ]
  },
  {
   "cell_type": "code",
   "execution_count": 12,
   "id": "ebffca63",
   "metadata": {},
   "outputs": [],
   "source": [
    "##The price column contains some String values and we need to process them\n",
    "## and replace all the values that contain negotiable with the NAN\n",
    "data_Clean['Price'].replace('Negotiable', np.NaN ,inplace=True)"
   ]
  },
  {
   "cell_type": "code",
   "execution_count": 13,
   "id": "46af0653",
   "metadata": {},
   "outputs": [
    {
     "data": {
      "text/plain": [
       "Make              0\n",
       "Type              0\n",
       "Year              0\n",
       "Origin            0\n",
       "Color             0\n",
       "Options           0\n",
       "Engine_Size       0\n",
       "Fuel_Type         0\n",
       "Gear_Type         0\n",
       "Condition         0\n",
       "Mileage           0\n",
       "Region            0\n",
       "Price          2596\n",
       "Negotiable        0\n",
       "dtype: int64"
      ]
     },
     "execution_count": 13,
     "metadata": {},
     "output_type": "execute_result"
    }
   ],
   "source": [
    "data_Clean.isnull().sum()"
   ]
  },
  {
   "cell_type": "code",
   "execution_count": 14,
   "id": "cc0fd935",
   "metadata": {},
   "outputs": [
    {
     "name": "stdout",
     "output_type": "stream",
     "text": [
      "<class 'pandas.core.frame.DataFrame'>\n",
      "Int64Index: 5652 entries, 0 to 8247\n",
      "Data columns (total 14 columns):\n",
      " #   Column       Non-Null Count  Dtype  \n",
      "---  ------       --------------  -----  \n",
      " 0   Make         5652 non-null   object \n",
      " 1   Type         5652 non-null   object \n",
      " 2   Year         5652 non-null   int64  \n",
      " 3   Origin       5652 non-null   object \n",
      " 4   Color        5652 non-null   object \n",
      " 5   Options      5652 non-null   object \n",
      " 6   Engine_Size  5652 non-null   float64\n",
      " 7   Fuel_Type    5652 non-null   object \n",
      " 8   Gear_Type    5652 non-null   object \n",
      " 9   Condition    5652 non-null   object \n",
      " 10  Mileage      5652 non-null   int64  \n",
      " 11  Region       5652 non-null   object \n",
      " 12  Price        5652 non-null   object \n",
      " 13  Negotiable   5652 non-null   bool   \n",
      "dtypes: bool(1), float64(1), int64(2), object(10)\n",
      "memory usage: 623.7+ KB\n"
     ]
    }
   ],
   "source": [
    "## Now we have NAN in 2596 rows, and because it is difficult to replace the average or mein or std in the price\n",
    "## because it well effect on the question, we delete all the rows that contain the values in the price column\n",
    "data_Clean.dropna(how='any',inplace=True)\n",
    "data_Clean.isnull().sum()\n",
    "data_Clean.info()"
   ]
  },
  {
   "cell_type": "code",
   "execution_count": 20,
   "id": "4ba04a80",
   "metadata": {},
   "outputs": [
    {
     "name": "stdout",
     "output_type": "stream",
     "text": [
      "<class 'pandas.core.frame.DataFrame'>\n",
      "Int64Index: 5652 entries, 0 to 8247\n",
      "Data columns (total 14 columns):\n",
      " #   Column       Non-Null Count  Dtype  \n",
      "---  ------       --------------  -----  \n",
      " 0   Make         5652 non-null   object \n",
      " 1   Type         5652 non-null   object \n",
      " 2   Year         5652 non-null   int64  \n",
      " 3   Origin       5652 non-null   object \n",
      " 4   Color        5652 non-null   object \n",
      " 5   Options      5652 non-null   object \n",
      " 6   Engine_Size  5652 non-null   float64\n",
      " 7   Fuel_Type    5652 non-null   object \n",
      " 8   Gear_Type    5652 non-null   object \n",
      " 9   Condition    5652 non-null   object \n",
      " 10  Mileage      5652 non-null   float64\n",
      " 11  Region       5652 non-null   object \n",
      " 12  Price        5652 non-null   float64\n",
      " 13  Negotiable   5652 non-null   bool   \n",
      "dtypes: bool(1), float64(3), int64(1), object(9)\n",
      "memory usage: 623.7+ KB\n"
     ]
    }
   ],
   "source": [
    "## 12  Price        5652 non-null   object  \n",
    "## her the price is (object) we need To Convert it to (int)\n",
    "data_Clean['Price'] = data_Clean['Price'].astype(float)\n",
    "data_Clean['Mileage'] = data_Clean['Mileage'].astype(float)\n",
    "data_Clean.info()"
   ]
  },
  {
   "cell_type": "code",
   "execution_count": 23,
   "id": "3d681a76",
   "metadata": {},
   "outputs": [
    {
     "data": {
      "text/html": [
       "<div>\n",
       "<style scoped>\n",
       "    .dataframe tbody tr th:only-of-type {\n",
       "        vertical-align: middle;\n",
       "    }\n",
       "\n",
       "    .dataframe tbody tr th {\n",
       "        vertical-align: top;\n",
       "    }\n",
       "\n",
       "    .dataframe thead th {\n",
       "        text-align: right;\n",
       "    }\n",
       "</style>\n",
       "<table border=\"1\" class=\"dataframe\">\n",
       "  <thead>\n",
       "    <tr style=\"text-align: right;\">\n",
       "      <th></th>\n",
       "      <th>Make</th>\n",
       "      <th>Type</th>\n",
       "      <th>Year</th>\n",
       "      <th>Origin</th>\n",
       "      <th>Color</th>\n",
       "      <th>Options</th>\n",
       "      <th>Engine_Size</th>\n",
       "      <th>Fuel_Type</th>\n",
       "      <th>Gear_Type</th>\n",
       "      <th>Condition</th>\n",
       "      <th>Mileage</th>\n",
       "      <th>Region</th>\n",
       "      <th>Price</th>\n",
       "      <th>Negotiable</th>\n",
       "    </tr>\n",
       "  </thead>\n",
       "  <tbody>\n",
       "    <tr>\n",
       "      <th>0</th>\n",
       "      <td>Chrysler</td>\n",
       "      <td>C300</td>\n",
       "      <td>2018</td>\n",
       "      <td>Saudi</td>\n",
       "      <td>Black</td>\n",
       "      <td>Full</td>\n",
       "      <td>5.7</td>\n",
       "      <td>Gas</td>\n",
       "      <td>Automatic</td>\n",
       "      <td>Used</td>\n",
       "      <td>103000.0</td>\n",
       "      <td>Riyadh</td>\n",
       "      <td>114000.0</td>\n",
       "      <td>False</td>\n",
       "    </tr>\n",
       "    <tr>\n",
       "      <th>2</th>\n",
       "      <td>Nissan</td>\n",
       "      <td>Sunny</td>\n",
       "      <td>2019</td>\n",
       "      <td>Saudi</td>\n",
       "      <td>Silver</td>\n",
       "      <td>Standard</td>\n",
       "      <td>1.5</td>\n",
       "      <td>Gas</td>\n",
       "      <td>Automatic</td>\n",
       "      <td>Used</td>\n",
       "      <td>72418.0</td>\n",
       "      <td>Riyadh</td>\n",
       "      <td>27500.0</td>\n",
       "      <td>False</td>\n",
       "    </tr>\n",
       "    <tr>\n",
       "      <th>3</th>\n",
       "      <td>Hyundai</td>\n",
       "      <td>Elantra</td>\n",
       "      <td>2019</td>\n",
       "      <td>Saudi</td>\n",
       "      <td>Grey</td>\n",
       "      <td>Standard</td>\n",
       "      <td>1.6</td>\n",
       "      <td>Gas</td>\n",
       "      <td>Automatic</td>\n",
       "      <td>Used</td>\n",
       "      <td>114154.0</td>\n",
       "      <td>Riyadh</td>\n",
       "      <td>43000.0</td>\n",
       "      <td>False</td>\n",
       "    </tr>\n",
       "    <tr>\n",
       "      <th>4</th>\n",
       "      <td>Hyundai</td>\n",
       "      <td>Elantra</td>\n",
       "      <td>2019</td>\n",
       "      <td>Saudi</td>\n",
       "      <td>Silver</td>\n",
       "      <td>Semi Full</td>\n",
       "      <td>2.0</td>\n",
       "      <td>Gas</td>\n",
       "      <td>Automatic</td>\n",
       "      <td>Used</td>\n",
       "      <td>41912.0</td>\n",
       "      <td>Riyadh</td>\n",
       "      <td>59500.0</td>\n",
       "      <td>False</td>\n",
       "    </tr>\n",
       "    <tr>\n",
       "      <th>5</th>\n",
       "      <td>Honda</td>\n",
       "      <td>Accord</td>\n",
       "      <td>2018</td>\n",
       "      <td>Saudi</td>\n",
       "      <td>Navy</td>\n",
       "      <td>Full</td>\n",
       "      <td>1.5</td>\n",
       "      <td>Gas</td>\n",
       "      <td>Automatic</td>\n",
       "      <td>Used</td>\n",
       "      <td>39000.0</td>\n",
       "      <td>Riyadh</td>\n",
       "      <td>72000.0</td>\n",
       "      <td>False</td>\n",
       "    </tr>\n",
       "  </tbody>\n",
       "</table>\n",
       "</div>"
      ],
      "text/plain": [
       "       Make     Type  Year Origin   Color    Options  Engine_Size Fuel_Type  \\\n",
       "0  Chrysler     C300  2018  Saudi   Black       Full          5.7       Gas   \n",
       "2    Nissan    Sunny  2019  Saudi  Silver   Standard          1.5       Gas   \n",
       "3   Hyundai  Elantra  2019  Saudi    Grey   Standard          1.6       Gas   \n",
       "4   Hyundai  Elantra  2019  Saudi  Silver  Semi Full          2.0       Gas   \n",
       "5     Honda   Accord  2018  Saudi    Navy       Full          1.5       Gas   \n",
       "\n",
       "   Gear_Type Condition   Mileage  Region     Price  Negotiable  \n",
       "0  Automatic      Used  103000.0  Riyadh  114000.0       False  \n",
       "2  Automatic      Used   72418.0  Riyadh   27500.0       False  \n",
       "3  Automatic      Used  114154.0  Riyadh   43000.0       False  \n",
       "4  Automatic      Used   41912.0  Riyadh   59500.0       False  \n",
       "5  Automatic      Used   39000.0  Riyadh   72000.0       False  "
      ]
     },
     "execution_count": 23,
     "metadata": {},
     "output_type": "execute_result"
    }
   ],
   "source": [
    "data_Clean.head()"
   ]
  },
  {
   "cell_type": "code",
   "execution_count": 24,
   "id": "f775f86a",
   "metadata": {},
   "outputs": [
    {
     "data": {
      "text/plain": [
       "array(['Automatic', 'Manual'], dtype=object)"
      ]
     },
     "execution_count": 24,
     "metadata": {},
     "output_type": "execute_result"
    }
   ],
   "source": [
    "data_Clean.Options.unique()"
   ]
  },
  {
   "cell_type": "code",
   "execution_count": 25,
   "id": "df1a005a",
   "metadata": {},
   "outputs": [
    {
     "data": {
      "text/plain": [
       "array(['Gas', 'Diesel', 'Hybrid'], dtype=object)"
      ]
     },
     "execution_count": 25,
     "metadata": {},
     "output_type": "execute_result"
    }
   ],
   "source": [
    "data_Clean.Fuel_Type.unique()"
   ]
  },
  {
   "cell_type": "code",
   "execution_count": 26,
   "id": "93d462ac",
   "metadata": {},
   "outputs": [
    {
     "data": {
      "text/plain": [
       "array(['Automatic', 'Manual'], dtype=object)"
      ]
     },
     "execution_count": 26,
     "metadata": {},
     "output_type": "execute_result"
    }
   ],
   "source": [
    "data_Clean.Gear_Type.unique()"
   ]
  },
  {
   "cell_type": "code",
   "execution_count": 27,
   "id": "b404b639",
   "metadata": {},
   "outputs": [],
   "source": [
    "#encoding the categorical Data by 0 - 1 - 2 \n",
    "#Options Full ==  0  \\\\ Semi Full == 1 ,  Standard == 2 \n",
    "#Fuel_Type Gas ==  0  \\\\ Diesel == 1 ,  Hybrid == 2 \n",
    "#Gear_Type Automatic ==  0  \\\\ Manual == 1 \n",
    "\n",
    "data_Clean.replace({'Options':{'Full':0,'Semi Full':1,'Standard':2}}, inplace=True)\n",
    "\n",
    "data_Clean.replace({'Fuel_Type':{'Gas':0,'Diesel':2,'Hybrid':1}}, inplace=True)\n",
    "\n",
    "data_Clean.replace({'Gear_Type':{'Automatic':0,'Manual':1}}, inplace=True)\n",
    "\n",
    "# Drop unnecessary columns(Make','Origin','Color','Condition','Region','Negotiable','Car_Group)\n",
    "\n",
    "data_Clean.drop(['Make','Origin','Color','Condition','Region','Negotiable'], axis = 1, inplace=True)"
   ]
  },
  {
   "cell_type": "code",
   "execution_count": 28,
   "id": "64cff4de",
   "metadata": {},
   "outputs": [
    {
     "data": {
      "text/html": [
       "<div>\n",
       "<style scoped>\n",
       "    .dataframe tbody tr th:only-of-type {\n",
       "        vertical-align: middle;\n",
       "    }\n",
       "\n",
       "    .dataframe tbody tr th {\n",
       "        vertical-align: top;\n",
       "    }\n",
       "\n",
       "    .dataframe thead th {\n",
       "        text-align: right;\n",
       "    }\n",
       "</style>\n",
       "<table border=\"1\" class=\"dataframe\">\n",
       "  <thead>\n",
       "    <tr style=\"text-align: right;\">\n",
       "      <th></th>\n",
       "      <th>Type</th>\n",
       "      <th>Year</th>\n",
       "      <th>Options</th>\n",
       "      <th>Engine_Size</th>\n",
       "      <th>Fuel_Type</th>\n",
       "      <th>Gear_Type</th>\n",
       "      <th>Mileage</th>\n",
       "      <th>Price</th>\n",
       "    </tr>\n",
       "  </thead>\n",
       "  <tbody>\n",
       "    <tr>\n",
       "      <th>0</th>\n",
       "      <td>C300</td>\n",
       "      <td>2018</td>\n",
       "      <td>0</td>\n",
       "      <td>5.7</td>\n",
       "      <td>0</td>\n",
       "      <td>0</td>\n",
       "      <td>103000.0</td>\n",
       "      <td>114000.0</td>\n",
       "    </tr>\n",
       "    <tr>\n",
       "      <th>2</th>\n",
       "      <td>Sunny</td>\n",
       "      <td>2019</td>\n",
       "      <td>2</td>\n",
       "      <td>1.5</td>\n",
       "      <td>0</td>\n",
       "      <td>0</td>\n",
       "      <td>72418.0</td>\n",
       "      <td>27500.0</td>\n",
       "    </tr>\n",
       "    <tr>\n",
       "      <th>3</th>\n",
       "      <td>Elantra</td>\n",
       "      <td>2019</td>\n",
       "      <td>2</td>\n",
       "      <td>1.6</td>\n",
       "      <td>0</td>\n",
       "      <td>0</td>\n",
       "      <td>114154.0</td>\n",
       "      <td>43000.0</td>\n",
       "    </tr>\n",
       "    <tr>\n",
       "      <th>4</th>\n",
       "      <td>Elantra</td>\n",
       "      <td>2019</td>\n",
       "      <td>1</td>\n",
       "      <td>2.0</td>\n",
       "      <td>0</td>\n",
       "      <td>0</td>\n",
       "      <td>41912.0</td>\n",
       "      <td>59500.0</td>\n",
       "    </tr>\n",
       "    <tr>\n",
       "      <th>5</th>\n",
       "      <td>Accord</td>\n",
       "      <td>2018</td>\n",
       "      <td>0</td>\n",
       "      <td>1.5</td>\n",
       "      <td>0</td>\n",
       "      <td>0</td>\n",
       "      <td>39000.0</td>\n",
       "      <td>72000.0</td>\n",
       "    </tr>\n",
       "  </tbody>\n",
       "</table>\n",
       "</div>"
      ],
      "text/plain": [
       "      Type  Year  Options  Engine_Size  Fuel_Type  Gear_Type   Mileage  \\\n",
       "0     C300  2018        0          5.7          0          0  103000.0   \n",
       "2    Sunny  2019        2          1.5          0          0   72418.0   \n",
       "3  Elantra  2019        2          1.6          0          0  114154.0   \n",
       "4  Elantra  2019        1          2.0          0          0   41912.0   \n",
       "5   Accord  2018        0          1.5          0          0   39000.0   \n",
       "\n",
       "      Price  \n",
       "0  114000.0  \n",
       "2   27500.0  \n",
       "3   43000.0  \n",
       "4   59500.0  \n",
       "5   72000.0  "
      ]
     },
     "execution_count": 28,
     "metadata": {},
     "output_type": "execute_result"
    }
   ],
   "source": [
    "data_Clean.head()"
   ]
  },
  {
   "cell_type": "code",
   "execution_count": 29,
   "id": "6a449d50",
   "metadata": {},
   "outputs": [
    {
     "data": {
      "text/plain": [
       "array(['C300', 'Sunny', 'Elantra', 'Accord', 'Land Cruiser', 'Impala',\n",
       "       'Yaris', 'Camry', 'Patrol', 'Tahoe', 'CLA', 'E', 'Accent',\n",
       "       'Corolla', 'Copper', 'Prado', 'Civic', 'Furniture', 'RX',\n",
       "       'Range Rover', 'Yukon', 'Bus Urvan', 'Aurion', 'Malibu', 'Rav4',\n",
       "       'CX9', 'Expedition', 'ES', 'Cadenza', 'Tucson', 'Platinum', 'G80',\n",
       "       'Sonata', 'LX', 'GX', 'Azera', 'CT-S', 'EC7', 'ZS', 'Kona',\n",
       "       'Grand Cherokee', 'S', 'M', 'Charger', 'Taurus', 'GTB 599 Fiorano',\n",
       "       'Royal', 'Picanto', 'Power', 'Datsun', 'F-Pace', 'Hilux',\n",
       "       'Suburban', 'Explorer', 'FJ', 'Senta fe', 'Optima', 'GS8',\n",
       "       'Maxima', 'Caprice', 'Challenger', 'Camaro', 'Symbol', 'Fluence',\n",
       "       '6', 'RX5', 'Avalon', 'APV', '3008', 'SRX', 'Cerato', 'Traverse',\n",
       "       'Sierra', 'F150', 'Genesis', 'NX', 'C', 'G70', 'Flex', 'UX',\n",
       "       'Dyna', 'Cores', 'Creta', 'Rio', 'Odyssey', 'EC8', 'Sylvian Bus',\n",
       "       'H1', 'Ciocca', 'Land Cruiser Pickup', 'Cressida', 'Duster',\n",
       "       'Seven', 'GLC', 'Carnival', 'H6', '300', 'The 7', 'Spark', 'Z370',\n",
       "       'Victoria', 'Ghost', '911', 'Attrage', 'Focus', 'X-Trail',\n",
       "       'Forester', 'Pick up', 'The 4', 'GS', 'Pajero', 'Acadia', 'City',\n",
       "       'Echo Sport', 'Vego', 'The 5', 'Silverado', 'A5', 'Cherokee',\n",
       "       'Altima', 'X', 'Navigator', 'Wrangler', 'G', 'XT5', 'Cruze',\n",
       "       'Navara', 'Gran Max', 'Innova', 'Aveo', 'Soul', 'Sportage',\n",
       "       'Montero', 'Prestige', 'Sentra', 'Dokker', 'Veloster', 'Fusion',\n",
       "       'Land Cruiser 70', 'Pathfinder', 'Seltos', 'Behbehani', 'LS',\n",
       "       'CX5', 'Emgrand', 'Carenz', 'SEL', 'The 6', 'Marquis', 'SL', 'H2',\n",
       "       'Talisman', 'Mustang', '5008', 'Bentayga', 'A', 'T77', 'Optra',\n",
       "       'Safrane', 'QX', 'Pilot', 'Tiggo', 'Durango', 'Eado', 'MKS', 'CT5',\n",
       "       'Panamera', 'CS35', 'Toyota 86', 'Coolray', 'Countryman', 'D-MAX',\n",
       "       'Partner', 'Capture', '301', 'A6', 'Previa', 'X-Terra', 'Other',\n",
       "       'CS75', 'Flying Spur', 'Outlander', 'GT', 'Sorento', 'Vanquish',\n",
       "       'Touareg', 'Safari', 'K5', 'Vantage', 'HRV', '3', 'Q5', 'CT4',\n",
       "       'Fiorino', 'MKX', 'S5', 'X7', 'Rush', '2', 'Delta', 'VTC', 'IS',\n",
       "       'Cayenne', 'Blazer', 'CS35 Plus', 'SE', 'KICKS', 'Q', 'CS85',\n",
       "       'Armada', 'Escalade', 'Echo', 'Avanza', 'GLB', 'Terios Ground',\n",
       "       'Bonneville', '5', 'CX3', 'S300', 'Koleos', '308', 'MR-V',\n",
       "       'Compass', 'Edge', 'A8', 'X Type', 'Hiace', 'Lumina', 'ML', '500',\n",
       "       'Macan', 'Passat', 'CLS', 'Stinger', 'Viano', 'A3', 'S8', 'RX8',\n",
       "       'XJR', 'Savana', 'RC', 'MKZ', 'CC', 'C-HR', 'Terrain', 'Mohave',\n",
       "       'Colorado', 'CL', 'Ram', 'Coaster', 'Vitara', 'Juke', 'C200', 'FX',\n",
       "       'Fleetwood', 'Milan', 'Cayman', 'Boxer', 'ATS', 'Cadillac',\n",
       "       'Grand Marquis', 'H3', 'Tundra', 'Envoy', 'Trailblazer', 'Prius',\n",
       "       'Osa Bus', 'CS95', 'F3', 'Gamble', 'The 3', 'L200', '360', 'Jimny',\n",
       "       'XJ', 'LF X60', 'Town and Country', 'Van', 'Patriot', 'GL',\n",
       "       'The M', 'Arnage', 'Cayenne S', 'ASX', 'F Type', 'Golf', 'Coupe S',\n",
       "       'GLE', 'Camargue', 'Doblo', 'Actros', 'Avalanche', 'Bus County',\n",
       "       'Ranger', 'BT-50', 'H-2', 'Z', 'Avante', 'Discovery', 'B50',\n",
       "       'K4000G', 'Grand Vitara', 'Mini Van', 'Continental GT', 'Nativa',\n",
       "       'Beetle', 'Ertiga', '4Runner', 'GS3', 'Quattroporte', 'Azkarra',\n",
       "       'XF', 'A7', 'Gloria', 'Tuscani', 'Kaptiva', 'Murano', 'DB9',\n",
       "       'Levante', 'Wingle', 'Jetta', 'GLA', 'Opirus', 'CRV', '350',\n",
       "       'Montero2', 'i40', 'Tiguan', 'STS', 'Logan', 'Town Car', 'Lancer',\n",
       "       'Abeka', 'i10', 'Dzire', 'LR2', 'Terios', 'Cayenne Turbo',\n",
       "       'Mini Cooper', 'Z350', 'Nitro', 'Van R', '323', 'Crosstour', 'SX4',\n",
       "       'Suvana', 'Liberty', 'Coupe', 'Prestige Plus', 'X40', 'POS24',\n",
       "       'Montero1', 'Bus', 'Megane', 'CT6', 'Fabia', 'Q7', 'Daily',\n",
       "       'Carens', 'Corvette', 'A4', 'FH', 'GC7', 'G330', 'Caprice Classic',\n",
       "       'Defender', 'H9', 'Sedona', 'Cayenne Turbo GTS', 'SRT', 'HS',\n",
       "       \"D'max\", 'Eldorado', 'Pegas', 'Palisade', 'Celerio', 'DTS',\n",
       "       'Leyland', 'XC90', 'Superb', 'The LS', 'Veracruz', '307',\n",
       "       'Space Star', 'CX7', 'R', 'QQ', 'L300', 'Galant', 'Van Express'],\n",
       "      dtype=object)"
      ]
     },
     "execution_count": 29,
     "metadata": {},
     "output_type": "execute_result"
    }
   ],
   "source": [
    "data_Clean.Type.unique()"
   ]
  },
  {
   "cell_type": "code",
   "execution_count": 30,
   "id": "8327d113",
   "metadata": {},
   "outputs": [],
   "source": [
    "data_Clean.drop(['Type'], axis = 1, inplace=True)"
   ]
  },
  {
   "cell_type": "code",
   "execution_count": 40,
   "id": "f1f7446a",
   "metadata": {},
   "outputs": [
    {
     "data": {
      "text/plain": [
       "<AxesSubplot:title={'center':'Fuel_Type Vs Price \\n Gas ==  0  Diesel == 1 ,  Hybrid == 2 \\n '}, xlabel='Fuel_Type', ylabel='Price'>"
      ]
     },
     "execution_count": 40,
     "metadata": {},
     "output_type": "execute_result"
    },
    {
     "data": {
      "image/png": "[encoded data removed]",
      "text/plain": [
       "<Figure size 432x288 with 1 Axes>"
      ]
     },
     "metadata": {},
     "output_type": "display_data"
    }
   ],
   "source": [
    "data_Clean['Fuel_Type'].value_counts()\n",
    "var = data_Clean.groupby('Fuel_Type').Price.sum()\n",
    "fig = plt.figure()\n",
    "ax1 = fig.add_subplot(1,1,1)\n",
    "ax1.set_xlabel('Fuel_Type')\n",
    "ax1.set_ylabel('Price')\n",
    "ax1.set_title(\"Fuel_Type Vs Price \\n Gas ==  0  Diesel == 1 ,  Hybrid == 2 \\n \")\n",
    "var.plot(kind='bar')"
   ]
  },
  {
   "cell_type": "code",
   "execution_count": 41,
   "id": "f3e87d91",
   "metadata": {},
   "outputs": [
    {
     "data": {
      "text/plain": [
       "<AxesSubplot:title={'center':'Gear_Type \\n Automatic ==  0  Manual == 1 \\n  '}, xlabel='Gear_Type', ylabel='Price'>"
      ]
     },
     "execution_count": 41,
     "metadata": {},
     "output_type": "execute_result"
    },
    {
     "data": {
      "image/png": "[encoded data removed]",
      "text/plain": [
       "<Figure size 432x288 with 1 Axes>"
      ]
     },
     "metadata": {},
     "output_type": "display_data"
    }
   ],
   "source": [
    "data_Clean['Gear_Type'].value_counts()\n",
    "var = data_Clean.groupby('Gear_Type').Price.sum()\n",
    "fig = plt.figure()\n",
    "ax1 = fig.add_subplot(1,1,1)\n",
    "ax1.set_xlabel('Gear_Type')\n",
    "ax1.set_ylabel('Price')\n",
    "ax1.set_title(\"Gear_Type Vs Price \\n Automatic ==  0  Manual == 1 \\n  \")\n",
    "var.plot(kind='bar')"
   ]
  },
  {
   "cell_type": "code",
   "execution_count": 42,
   "id": "27f0b554",
   "metadata": {},
   "outputs": [
    {
     "data": {
      "text/plain": [
       "<AxesSubplot:title={'center':'Engine_Size Vs Price \\n Automatic ==  0  Manual == 1 \\n  '}, xlabel='Engine_Size', ylabel='Price'>"
      ]
     },
     "execution_count": 42,
     "metadata": {},
     "output_type": "execute_result"
    },
    {
     "data": {
      "image/png": "[encoded data removed]",
      "text/plain": [
       "<Figure size 432x288 with 1 Axes>"
      ]
     },
     "metadata": {},
     "output_type": "display_data"
    }
   ],
   "source": [
    "data_Clean['Engine_Size'].value_counts()\n",
    "var = data_Clean.groupby('Engine_Size').Price.sum()\n",
    "fig = plt.figure()\n",
    "ax1 = fig.add_subplot(1,1,1)\n",
    "ax1.set_xlabel('Engine_Size')\n",
    "ax1.set_ylabel('Price')\n",
    "ax1.set_title(\"Engine_Size Vs Price \\n Automatic ==  0  Manual == 1 \\n  \")\n",
    "var.plot(kind='bar')"
   ]
  },
  {
   "cell_type": "code",
   "execution_count": 45,
   "id": "e401a2a7",
   "metadata": {},
   "outputs": [
    {
     "data": {
      "text/plain": [
       "<AxesSubplot:>"
      ]
     },
     "execution_count": 45,
     "metadata": {},
     "output_type": "execute_result"
    },
    {
     "data": {
      "image/png": "[encoded data removed]",
      "text/plain": [
       "<Figure size 432x288 with 2 Axes>"
      ]
     },
     "metadata": {},
     "output_type": "display_data"
    }
   ],
   "source": [
    "sns.heatmap(data_Clean.isnull(),yticklabels=False,cbar=True,cmap='Accent')"
   ]
  },
  {
   "cell_type": "code",
   "execution_count": 44,
   "id": "994daff2",
   "metadata": {},
   "outputs": [],
   "source": [
    "# After we clean the data, we extract the data in the form of a file CSV in The Name \"UsedCarsSA_Clean_EN\"\n",
    "\n",
    "data_Clean.to_csv(\"UsedCarsSA_Clean_EN.csv\")\n"
   ]
  },
  {
   "cell_type": "code",
   "execution_count": 50,
   "id": "260986f3",
   "metadata": {},
   "outputs": [
    {
     "data": {
      "text/html": [
       "<div>\n",
       "<style scoped>\n",
       "    .dataframe tbody tr th:only-of-type {\n",
       "        vertical-align: middle;\n",
       "    }\n",
       "\n",
       "    .dataframe tbody tr th {\n",
       "        vertical-align: top;\n",
       "    }\n",
       "\n",
       "    .dataframe thead th {\n",
       "        text-align: right;\n",
       "    }\n",
       "</style>\n",
       "<table border=\"1\" class=\"dataframe\">\n",
       "  <thead>\n",
       "    <tr style=\"text-align: right;\">\n",
       "      <th></th>\n",
       "      <th>Year</th>\n",
       "      <th>Options</th>\n",
       "      <th>Engine_Size</th>\n",
       "      <th>Fuel_Type</th>\n",
       "      <th>Gear_Type</th>\n",
       "      <th>Mileage</th>\n",
       "      <th>Price</th>\n",
       "    </tr>\n",
       "  </thead>\n",
       "  <tbody>\n",
       "    <tr>\n",
       "      <th>0</th>\n",
       "      <td>2018</td>\n",
       "      <td>0</td>\n",
       "      <td>5.7</td>\n",
       "      <td>0</td>\n",
       "      <td>0</td>\n",
       "      <td>103000.0</td>\n",
       "      <td>114000.0</td>\n",
       "    </tr>\n",
       "    <tr>\n",
       "      <th>2</th>\n",
       "      <td>2019</td>\n",
       "      <td>2</td>\n",
       "      <td>1.5</td>\n",
       "      <td>0</td>\n",
       "      <td>0</td>\n",
       "      <td>72418.0</td>\n",
       "      <td>27500.0</td>\n",
       "    </tr>\n",
       "    <tr>\n",
       "      <th>3</th>\n",
       "      <td>2019</td>\n",
       "      <td>2</td>\n",
       "      <td>1.6</td>\n",
       "      <td>0</td>\n",
       "      <td>0</td>\n",
       "      <td>114154.0</td>\n",
       "      <td>43000.0</td>\n",
       "    </tr>\n",
       "    <tr>\n",
       "      <th>4</th>\n",
       "      <td>2019</td>\n",
       "      <td>1</td>\n",
       "      <td>2.0</td>\n",
       "      <td>0</td>\n",
       "      <td>0</td>\n",
       "      <td>41912.0</td>\n",
       "      <td>59500.0</td>\n",
       "    </tr>\n",
       "    <tr>\n",
       "      <th>5</th>\n",
       "      <td>2018</td>\n",
       "      <td>0</td>\n",
       "      <td>1.5</td>\n",
       "      <td>0</td>\n",
       "      <td>0</td>\n",
       "      <td>39000.0</td>\n",
       "      <td>72000.0</td>\n",
       "    </tr>\n",
       "  </tbody>\n",
       "</table>\n",
       "</div>"
      ],
      "text/plain": [
       "   Year  Options  Engine_Size  Fuel_Type  Gear_Type   Mileage     Price\n",
       "0  2018        0          5.7          0          0  103000.0  114000.0\n",
       "2  2019        2          1.5          0          0   72418.0   27500.0\n",
       "3  2019        2          1.6          0          0  114154.0   43000.0\n",
       "4  2019        1          2.0          0          0   41912.0   59500.0\n",
       "5  2018        0          1.5          0          0   39000.0   72000.0"
      ]
     },
     "execution_count": 50,
     "metadata": {},
     "output_type": "execute_result"
    }
   ],
   "source": [
    "data_Clean.head()"
   ]
  },
  {
   "cell_type": "code",
   "execution_count": 54,
   "id": "eeadb6e4",
   "metadata": {},
   "outputs": [
    {
     "data": {
      "text/plain": [
       "2021"
      ]
     },
     "execution_count": 54,
     "metadata": {},
     "output_type": "execute_result"
    }
   ],
   "source": [
    "data_Clean.Year.max()"
   ]
  },
  {
   "cell_type": "code",
   "execution_count": 56,
   "id": "934cd732",
   "metadata": {},
   "outputs": [
    {
     "data": {
      "text/plain": [
       "2016    892\n",
       "2018    645\n",
       "2017    639\n",
       "2015    586\n",
       "2019    528\n",
       "2020    418\n",
       "2014    348\n",
       "2013    320\n",
       "2012    193\n",
       "2011    164\n",
       "2010    132\n",
       "2021    128\n",
       "2008    107\n",
       "2009    104\n",
       "2007     90\n",
       "2006     82\n",
       "2005     48\n",
       "2003     29\n",
       "2004     29\n",
       "2001     23\n",
       "2002     21\n",
       "1999     15\n",
       "2000     14\n",
       "1995     12\n",
       "1997     11\n",
       "1998     11\n",
       "1990      9\n",
       "1993      7\n",
       "1991      5\n",
       "1994      5\n",
       "1996      5\n",
       "1992      4\n",
       "1989      4\n",
       "1978      3\n",
       "1983      3\n",
       "1987      2\n",
       "1988      2\n",
       "1984      2\n",
       "1980      2\n",
       "1982      2\n",
       "1985      1\n",
       "1972      1\n",
       "1981      1\n",
       "1986      1\n",
       "1968      1\n",
       "1963      1\n",
       "1970      1\n",
       "1964      1\n",
       "Name: Year, dtype: int64"
      ]
     },
     "execution_count": 56,
     "metadata": {},
     "output_type": "execute_result"
    }
   ],
   "source": [
    "counts = data_Clean.Year.value_counts()\n",
    "counts"
   ]
  },
  {
   "cell_type": "code",
   "execution_count": 75,
   "id": "903729cb",
   "metadata": {},
   "outputs": [
    {
     "data": {
      "text/html": [
       "<div>\n",
       "<style scoped>\n",
       "    .dataframe tbody tr th:only-of-type {\n",
       "        vertical-align: middle;\n",
       "    }\n",
       "\n",
       "    .dataframe tbody tr th {\n",
       "        vertical-align: top;\n",
       "    }\n",
       "\n",
       "    .dataframe thead th {\n",
       "        text-align: right;\n",
       "    }\n",
       "</style>\n",
       "<table border=\"1\" class=\"dataframe\">\n",
       "  <thead>\n",
       "    <tr style=\"text-align: right;\">\n",
       "      <th></th>\n",
       "      <th>Year</th>\n",
       "      <th>Options</th>\n",
       "      <th>Engine_Size</th>\n",
       "      <th>Fuel_Type</th>\n",
       "      <th>Gear_Type</th>\n",
       "      <th>Mileage</th>\n",
       "      <th>Price</th>\n",
       "    </tr>\n",
       "  </thead>\n",
       "  <tbody>\n",
       "    <tr>\n",
       "      <th>0</th>\n",
       "      <td>2018</td>\n",
       "      <td>0</td>\n",
       "      <td>5.70000</td>\n",
       "      <td>0</td>\n",
       "      <td>0</td>\n",
       "      <td>103000.0</td>\n",
       "      <td>114000.0</td>\n",
       "    </tr>\n",
       "    <tr>\n",
       "      <th>2</th>\n",
       "      <td>2019</td>\n",
       "      <td>2</td>\n",
       "      <td>1.50000</td>\n",
       "      <td>0</td>\n",
       "      <td>0</td>\n",
       "      <td>72418.0</td>\n",
       "      <td>27500.0</td>\n",
       "    </tr>\n",
       "    <tr>\n",
       "      <th>3</th>\n",
       "      <td>2019</td>\n",
       "      <td>2</td>\n",
       "      <td>1.60000</td>\n",
       "      <td>0</td>\n",
       "      <td>0</td>\n",
       "      <td>114154.0</td>\n",
       "      <td>43000.0</td>\n",
       "    </tr>\n",
       "    <tr>\n",
       "      <th>4</th>\n",
       "      <td>2019</td>\n",
       "      <td>1</td>\n",
       "      <td>2.00000</td>\n",
       "      <td>0</td>\n",
       "      <td>0</td>\n",
       "      <td>41912.0</td>\n",
       "      <td>59500.0</td>\n",
       "    </tr>\n",
       "    <tr>\n",
       "      <th>5</th>\n",
       "      <td>2018</td>\n",
       "      <td>0</td>\n",
       "      <td>1.50000</td>\n",
       "      <td>0</td>\n",
       "      <td>0</td>\n",
       "      <td>39000.0</td>\n",
       "      <td>72000.0</td>\n",
       "    </tr>\n",
       "    <tr>\n",
       "      <th>...</th>\n",
       "      <td>...</td>\n",
       "      <td>...</td>\n",
       "      <td>...</td>\n",
       "      <td>...</td>\n",
       "      <td>...</td>\n",
       "      <td>...</td>\n",
       "      <td>...</td>\n",
       "    </tr>\n",
       "    <tr>\n",
       "      <th>8242</th>\n",
       "      <td>2006</td>\n",
       "      <td>0</td>\n",
       "      <td>3.50000</td>\n",
       "      <td>0</td>\n",
       "      <td>1</td>\n",
       "      <td>257000.0</td>\n",
       "      <td>15000.0</td>\n",
       "    </tr>\n",
       "    <tr>\n",
       "      <th>8243</th>\n",
       "      <td>2015</td>\n",
       "      <td>0</td>\n",
       "      <td>1.56748</td>\n",
       "      <td>0</td>\n",
       "      <td>0</td>\n",
       "      <td>77000.0</td>\n",
       "      <td>75000.0</td>\n",
       "    </tr>\n",
       "    <tr>\n",
       "      <th>8244</th>\n",
       "      <td>2010</td>\n",
       "      <td>0</td>\n",
       "      <td>1.56748</td>\n",
       "      <td>0</td>\n",
       "      <td>0</td>\n",
       "      <td>150000.0</td>\n",
       "      <td>53000.0</td>\n",
       "    </tr>\n",
       "    <tr>\n",
       "      <th>8246</th>\n",
       "      <td>2011</td>\n",
       "      <td>0</td>\n",
       "      <td>2.50000</td>\n",
       "      <td>0</td>\n",
       "      <td>0</td>\n",
       "      <td>18500.0</td>\n",
       "      <td>22000.0</td>\n",
       "    </tr>\n",
       "    <tr>\n",
       "      <th>8247</th>\n",
       "      <td>2013</td>\n",
       "      <td>0</td>\n",
       "      <td>3.60000</td>\n",
       "      <td>0</td>\n",
       "      <td>0</td>\n",
       "      <td>256000.0</td>\n",
       "      <td>40000.0</td>\n",
       "    </tr>\n",
       "  </tbody>\n",
       "</table>\n",
       "<p>5615 rows × 7 columns</p>\n",
       "</div>"
      ],
      "text/plain": [
       "      Year  Options  Engine_Size  Fuel_Type  Gear_Type   Mileage     Price\n",
       "0     2018        0      5.70000          0          0  103000.0  114000.0\n",
       "2     2019        2      1.50000          0          0   72418.0   27500.0\n",
       "3     2019        2      1.60000          0          0  114154.0   43000.0\n",
       "4     2019        1      2.00000          0          0   41912.0   59500.0\n",
       "5     2018        0      1.50000          0          0   39000.0   72000.0\n",
       "...    ...      ...          ...        ...        ...       ...       ...\n",
       "8242  2006        0      3.50000          0          1  257000.0   15000.0\n",
       "8243  2015        0      1.56748          0          0   77000.0   75000.0\n",
       "8244  2010        0      1.56748          0          0  150000.0   53000.0\n",
       "8246  2011        0      2.50000          0          0   18500.0   22000.0\n",
       "8247  2013        0      3.60000          0          0  256000.0   40000.0\n",
       "\n",
       "[5615 rows x 7 columns]"
      ]
     },
     "execution_count": 75,
     "metadata": {},
     "output_type": "execute_result"
    }
   ],
   "source": [
    "data_Clean"
   ]
  },
  {
   "cell_type": "code",
   "execution_count": null,
   "id": "21ff933c",
   "metadata": {},
   "outputs": [],
   "source": []
  }
 ],
 "metadata": {
  "kernelspec": {
   "display_name": "Python 3",
   "language": "python",
   "name": "python3"
  },
  "language_info": {
   "codemirror_mode": {
    "name": "ipython",
    "version": 3
   },
   "file_extension": ".py",
   "mimetype": "text/x-python",
   "name": "python",
   "nbconvert_exporter": "python",
   "pygments_lexer": "ipython3",
   "version": "3.8.8"
  }
 },
 "nbformat": 4,
 "nbformat_minor": 5
}
